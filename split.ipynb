{
 "cells": [
  {
   "cell_type": "code",
   "execution_count": 1,
   "metadata": {},
   "outputs": [],
   "source": [
    "import pandas as pd\n",
    "import os"
   ]
  },
  {
   "cell_type": "code",
   "execution_count": 2,
   "metadata": {},
   "outputs": [],
   "source": [
    "contribution = pd.read_csv(\"github-contribution.csv.gz\")"
   ]
  },
  {
   "cell_type": "code",
   "execution_count": 9,
   "metadata": {},
   "outputs": [],
   "source": [
    "asfgithub = pd.read_csv(\"asf-github-to-apache.csv.gz\")\n",
    "membership = pd.read_csv(\"asf-membership.csv.gz\")"
   ]
  },
  {
   "cell_type": "code",
   "execution_count": 7,
   "metadata": {},
   "outputs": [],
   "source": [
    "commits = pd.read_csv(\"github-commit.csv.gz\",encoding = \"iso-8859-1\")\n"
   ]
  },
  {
   "cell_type": "code",
   "execution_count": 10,
   "metadata": {},
   "outputs": [],
   "source": [
    "asfgithubmembership = pd.merge(asfgithub, membership, how=\"left\")"
   ]
  },
  {
   "cell_type": "code",
   "execution_count": 11,
   "metadata": {},
   "outputs": [],
   "source": [
    "def asfproject(name):\n",
    "    parts = name.split(\"-\")\n",
    "    if parts[0] == \"incubator\" and len(parts) > 1:\n",
    "        return parts[1]\n",
    "    else:\n",
    "        return parts[0]\n",
    "    \n",
    "contribution[\"project\"] = contribution.repo.apply(asfproject)"
   ]
  },
  {
   "cell_type": "code",
   "execution_count": 12,
   "metadata": {},
   "outputs": [],
   "source": [
    "projects = pd.read_csv(\"asf-project.csv.gz\")\n",
    "for index,row in projects.iterrows():\n",
    "    project = row[\"name\"]\n",
    "    if not os.path.exists(project):\n",
    "      os.makedirs(project)\n",
    "    \n",
    "#     project_contribution.to_csv(os.path.join(project_contribution = contribution[contribution.project == project], \"github-contribution.csv.gz\"), index=False)\n",
    "#     asfgithubmembership[asfgithubmembership.project == project].to_csv(os.path.join(project, \"asf-github-membership.csv.gz\"), index=False)\n",
    "    commits[commits.repo.apply(asfproject) == project].to_csv(os.path.join(project, \"github-commit.csv.gz\"), index=False)\n"
   ]
  },
  {
   "cell_type": "code",
   "execution_count": null,
   "metadata": {},
   "outputs": [],
   "source": []
  },
  {
   "cell_type": "code",
   "execution_count": null,
   "metadata": {},
   "outputs": [],
   "source": []
  }
 ],
 "metadata": {
  "kernelspec": {
   "display_name": "Python 3",
   "language": "python",
   "name": "python3"
  },
  "language_info": {
   "codemirror_mode": {
    "name": "ipython",
    "version": 3
   },
   "file_extension": ".py",
   "mimetype": "text/x-python",
   "name": "python",
   "nbconvert_exporter": "python",
   "pygments_lexer": "ipython3",
   "version": "3.9.1"
  }
 },
 "nbformat": 4,
 "nbformat_minor": 4
}
